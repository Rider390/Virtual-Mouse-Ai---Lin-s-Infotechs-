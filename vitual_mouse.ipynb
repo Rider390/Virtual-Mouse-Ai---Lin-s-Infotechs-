{
 "cells": [
  {
   "cell_type": "markdown",
   "metadata": {},
   "source": [
    "# Import the necessary packages and Convention"
   ]
  },
  {
   "cell_type": "markdown",
   "metadata": {},
   "source": [
    "##### Author : Lin's Infotechs\n",
    "##### Date : 13/09/2024"
   ]
  },
  {
   "cell_type": "code",
   "execution_count": 1,
   "metadata": {},
   "outputs": [],
   "source": [
    "from turtle import ht\n",
    "import cv2  # pip install opencv-contrib-python\n",
    "import numpy as np\n",
    "import mediapipe as mp  # pip install mediapipe\n",
    "import pyautogui    # pip install PyautoGUI\n",
    "import matplotlib.pyplot as plt\n",
    "from IPython.display import Image"
   ]
  },
  {
   "cell_type": "code",
   "execution_count": 2,
   "metadata": {},
   "outputs": [
    {
     "data": {
      "text/html": [
       "<img src=\"hand_landmarks.png\"/>"
      ],
      "text/plain": [
       "<IPython.core.display.Image object>"
      ]
     },
     "execution_count": 2,
     "metadata": {},
     "output_type": "execute_result"
    }
   ],
   "source": [
    "points = Image(url=\"hand_landmarks.png\")\n",
    "points\n",
    "# img=cv2.imread(\"hand_landmarks.png\")\n",
    "# RGB_img = cv2.cvtColor(img, cv2.COLOR_BGR2RGB)\n",
    "# plt.imshow(img)\n"
   ]
  },
  {
   "cell_type": "code",
   "execution_count": 3,
   "metadata": {},
   "outputs": [],
   "source": [
    "cap = cv2.VideoCapture(0)   # capture video '0' one cam\n",
    "hand_detector = mp.solutions.hands.Hands()  # detect hand\n",
    "drawing_utils = mp.solutions.drawing_utils\n",
    "screen_width, screen_height = pyautogui.size()\n",
    "index_y = 0"
   ]
  },
  {
   "cell_type": "code",
   "execution_count": 4,
   "metadata": {},
   "outputs": [],
   "source": [
    "'''Smoothen the movement of mouse to stop at the exact position of,\n",
    "   our hand movement without any shake in the movement of the mouse'''\n",
    "smoothening = 9\n",
    "plocx, plocy = 0, 0\n",
    "clocx, clocy = 0, 0 "
   ]
  },
  {
   "cell_type": "code",
   "execution_count": null,
   "metadata": {
    "scrolled": true
   },
   "outputs": [
    {
     "name": "stdout",
     "output_type": "stream",
     "text": [
      "distance :  706.5\n",
      "distance :  36.0\n",
      "click\n",
      "distance :  189.0\n",
      "distance :  114.75\n",
      "distance :  182.25\n",
      "distance :  184.5\n",
      "distance :  182.25\n",
      "distance :  184.5\n",
      "distance :  186.75\n",
      "distance :  182.25\n",
      "distance :  184.5\n",
      "distance :  186.75\n",
      "distance :  186.75\n",
      "distance :  184.5\n",
      "distance :  186.75\n",
      "distance :  186.75\n",
      "distance :  186.75\n",
      "distance :  186.75\n",
      "distance :  189.0\n",
      "distance :  189.0\n",
      "distance :  189.0\n",
      "distance :  189.0\n",
      "distance :  189.0\n",
      "distance :  186.75\n",
      "distance :  204.75\n",
      "distance :  211.5\n",
      "distance :  216.0\n",
      "distance :  213.75\n",
      "distance :  216.0\n",
      "distance :  218.25\n",
      "distance :  216.0\n",
      "distance :  180.0\n",
      "distance :  168.75\n",
      "distance :  184.5\n",
      "distance :  189.0\n",
      "distance :  189.0\n",
      "distance :  189.0\n",
      "distance :  193.5\n",
      "distance :  198.0\n",
      "distance :  195.75\n",
      "distance :  191.25\n",
      "distance :  173.25\n",
      "distance :  177.75\n",
      "distance :  171.0\n",
      "distance :  155.25\n",
      "distance :  189.0\n",
      "distance :  171.0\n",
      "distance :  186.75\n",
      "distance :  177.75\n",
      "distance :  184.5\n",
      "distance :  182.25\n",
      "distance :  184.5\n",
      "distance :  166.5\n",
      "distance :  171.0\n",
      "distance :  166.5\n",
      "distance :  168.75\n",
      "distance :  155.25\n",
      "distance :  137.25\n",
      "distance :  112.5\n",
      "distance :  78.75\n",
      "distance :  74.25\n",
      "distance :  63.0\n",
      "click\n",
      "distance :  132.75\n",
      "distance :  135.0\n",
      "distance :  155.25\n",
      "distance :  191.25\n",
      "distance :  193.5\n",
      "distance :  180.0\n",
      "distance :  175.5\n",
      "distance :  168.75\n",
      "distance :  175.5\n",
      "distance :  177.75\n",
      "distance :  171.0\n",
      "distance :  173.25\n",
      "distance :  177.75\n",
      "distance :  177.75\n",
      "distance :  164.25\n",
      "distance :  157.5\n",
      "distance :  144.0\n",
      "distance :  141.75\n",
      "distance :  153.0\n",
      "distance :  148.5\n",
      "distance :  155.25\n",
      "distance :  162.0\n",
      "distance :  108.0\n",
      "distance :  24.75\n",
      "click\n",
      "distance :  69.75\n",
      "click\n"
     ]
    }
   ],
   "source": [
    "while True:\n",
    "    _, frame = cap.read()   # read data from cap\n",
    "    '''Flip the frame or screen since the camera shows the mirror image,\n",
    "       of our hand and moves in opposite direction so we need to flip the screen'''\n",
    "    frame = cv2.flip(frame, 1)\n",
    "     # shape gives frame height and width using shape \n",
    "    frame_height, frame_width, _ = frame.shape\n",
    "    rgb_frame = cv2.cvtColor(frame, cv2.COLOR_BGR2RGB)  # detect on rgb frame color\n",
    "    output = hand_detector.process(rgb_frame)\n",
    "    hands = output.multi_hand_landmarks # hand landmark\n",
    "    \n",
    "    if hands:\n",
    "        for hand in hands:\n",
    "            drawing_utils.draw_landmarks(frame, hand)   # see landmarks on frame\n",
    "            # we use our index finger tip move the mouse \n",
    "            landmarks = hand.landmark\n",
    "            \n",
    "            for id, landmark in enumerate(landmarks):   # add counter\n",
    "                # show the landmarks on kernel in x and y axis\n",
    "                # x and y axis is multiplies by the height and width to get the x and y axis on the frames\n",
    "                x = int(landmark.x*frame_width)\n",
    "                y = int(landmark.y*frame_height)\n",
    "                # print(x,y)\n",
    "                # Index finger tip point number is 8\n",
    "                # and draw a boundary to the point a circle\n",
    "                if id == 8:\n",
    "                    cv2.circle(img=frame, center=(x,y), radius=15, color=(0, 255, 255))\n",
    "                    # pyautogui.moveTo(x,y)\n",
    "                    index_x = (screen_width/frame_width)*x\n",
    "                    index_y = (screen_height/frame_height)*y\n",
    "                    # co-ordinates need to be changed \n",
    "                    # smoothining varies with the change in the smoothening factor\n",
    "                    clocx = plocx + (index_x - plocx) /smoothening\n",
    "                    clocy = plocy + (index_y - plocy) /smoothening\n",
    "                    pyautogui.moveTo(clocx, clocy)\n",
    "                    plocx, plocy = clocx, clocy\n",
    "                \n",
    "                # thumb tip point number is 4\n",
    "\n",
    "                if id == 4:\n",
    "                    cv2.circle(img=frame, center=(x,y), radius=15, color=(0, 255, 255))\n",
    "                    thumb_x = (screen_width/frame_width)*x\n",
    "                    thumb_y = (screen_height/frame_height)*y\n",
    "                    print('distance : ', abs(index_y - thumb_y))\n",
    "                    if abs(index_y - thumb_y) < 70:\n",
    "                        print('click')\n",
    "                        pyautogui.click()\n",
    "                        pyautogui.sleep(1)\n",
    "    cv2.imshow('Virtual Mouse', frame)  # show image\n",
    "    cv2.waitKey(1)  # waits for key infinitely\n",
    "    "
   ]
  },
  {
   "cell_type": "code",
   "execution_count": null,
   "metadata": {},
   "outputs": [],
   "source": []
  },
  {
   "cell_type": "code",
   "execution_count": null,
   "metadata": {},
   "outputs": [],
   "source": []
  },
  {
   "cell_type": "code",
   "execution_count": null,
   "metadata": {},
   "outputs": [],
   "source": []
  }
 ],
 "metadata": {
  "kernelspec": {
   "display_name": "Python 3",
   "language": "python",
   "name": "python3"
  },
  "language_info": {
   "codemirror_mode": {
    "name": "ipython",
    "version": 3
   },
   "file_extension": ".py",
   "mimetype": "text/x-python",
   "name": "python",
   "nbconvert_exporter": "python",
   "pygments_lexer": "ipython3",
   "version": "3.8.10"
  }
 },
 "nbformat": 4,
 "nbformat_minor": 2
}
